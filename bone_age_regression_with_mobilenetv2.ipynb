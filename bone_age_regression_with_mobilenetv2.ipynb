{
  "cells": [
    {
      "cell_type": "markdown",
      "metadata": {
        "colab_type": "text",
        "id": "view-in-github"
      },
      "source": [
        "<a href=\"https://colab.research.google.com/github/rinogrego/Bone-Age-Assessment-with-MobileNetV2/blob/main/bone_age_regression_with_mobilenetv2.ipynb\" target=\"_parent\"><img src=\"https://colab.research.google.com/assets/colab-badge.svg\" alt=\"Open In Colab\"/></a>"
      ]
    },
    {
      "cell_type": "markdown",
      "metadata": {
        "id": "nb3Bn9PF3Pfj"
      },
      "source": [
        "# Download Data"
      ]
    },
    {
      "cell_type": "code",
      "execution_count": null,
      "metadata": {
        "id": "yKZVhS0onF0s"
      },
      "outputs": [],
      "source": [
        "# !mkdir '/content/drive/MyDrive/Bone-Age-Regression'"
      ]
    },
    {
      "cell_type": "code",
      "execution_count": null,
      "metadata": {
        "id": "-bmHgnSM3RFM"
      },
      "outputs": [],
      "source": [
        "DATASET_TARGET_PATH = '/content/drive/MyDrive/Dataset/Bone Age Regression/'"
      ]
    },
    {
      "cell_type": "code",
      "execution_count": null,
      "metadata": {
        "id": "kZ9Y-DjGVyY3"
      },
      "outputs": [],
      "source": [
        "!unzip -q '/content/drive/MyDrive/Bone-Age-Regression/bone-age-regression.zip' -d '/content/drive/MyDrive/Dataset/Bone Age Regression/'"
      ]
    },
    {
      "cell_type": "markdown",
      "metadata": {
        "id": "4hEiCk7S104D"
      },
      "source": [
        "# Import Package"
      ]
    },
    {
      "cell_type": "code",
      "execution_count": null,
      "metadata": {
        "id": "hXPrJvFT1vdT"
      },
      "outputs": [],
      "source": [
        "from typing import Iterator, List, Union, Tuple, Any\n",
        "from datetime import datetime\n",
        "\n",
        "import tensorflow as tf\n",
        "import numpy as np\n",
        "import matplotlib.pyplot as plt\n",
        "import pandas as pd\n",
        "from sklearn.model_selection import train_test_split\n",
        "\n",
        "from tensorflow import keras\n",
        "from tensorflow.keras.preprocessing.image import ImageDataGenerator\n",
        "from tensorflow.keras import layers, models, Model, regularizers\n",
        "from tensorflow.python.keras.callbacks import EarlyStopping, ModelCheckpoint\n",
        "from tensorflow.keras.losses import MeanAbsoluteError\n",
        "from tensorflow.keras.models import Sequential, load_model\n",
        "from tensorflow.keras.callbacks import History"
      ]
    },
    {
      "cell_type": "markdown",
      "metadata": {
        "id": "HFsTXBWT3WVt"
      },
      "source": [
        "# Dataframe Processing"
      ]
    },
    {
      "cell_type": "code",
      "execution_count": null,
      "metadata": {
        "colab": {
          "base_uri": "https://localhost:8080/",
          "height": 424
        },
        "id": "_4xvfexz3ZA6",
        "outputId": "62c7f9c1-605a-4e11-a8dd-02233a6eafd6"
      },
      "outputs": [
        {
          "data": {
            "text/html": [
              "\n",
              "  <div id=\"df-5cedd1f8-275a-4d4e-8086-78bb91c436e7\">\n",
              "    <div class=\"colab-df-container\">\n",
              "      <div>\n",
              "<style scoped>\n",
              "    .dataframe tbody tr th:only-of-type {\n",
              "        vertical-align: middle;\n",
              "    }\n",
              "\n",
              "    .dataframe tbody tr th {\n",
              "        vertical-align: top;\n",
              "    }\n",
              "\n",
              "    .dataframe thead th {\n",
              "        text-align: right;\n",
              "    }\n",
              "</style>\n",
              "<table border=\"1\" class=\"dataframe\">\n",
              "  <thead>\n",
              "    <tr style=\"text-align: right;\">\n",
              "      <th></th>\n",
              "      <th>fileName</th>\n",
              "      <th>boneage</th>\n",
              "      <th>gender</th>\n",
              "    </tr>\n",
              "  </thead>\n",
              "  <tbody>\n",
              "    <tr>\n",
              "      <th>3957</th>\n",
              "      <td>10000.png</td>\n",
              "      <td>96</td>\n",
              "      <td>male</td>\n",
              "    </tr>\n",
              "    <tr>\n",
              "      <th>10831</th>\n",
              "      <td>10001.png</td>\n",
              "      <td>168</td>\n",
              "      <td>male</td>\n",
              "    </tr>\n",
              "    <tr>\n",
              "      <th>132</th>\n",
              "      <td>10002.png</td>\n",
              "      <td>168</td>\n",
              "      <td>male</td>\n",
              "    </tr>\n",
              "    <tr>\n",
              "      <th>3494</th>\n",
              "      <td>10003.png</td>\n",
              "      <td>76</td>\n",
              "      <td>female</td>\n",
              "    </tr>\n",
              "    <tr>\n",
              "      <th>9580</th>\n",
              "      <td>10004.png</td>\n",
              "      <td>135</td>\n",
              "      <td>male</td>\n",
              "    </tr>\n",
              "    <tr>\n",
              "      <th>...</th>\n",
              "      <td>...</td>\n",
              "      <td>...</td>\n",
              "      <td>...</td>\n",
              "    </tr>\n",
              "    <tr>\n",
              "      <th>4458</th>\n",
              "      <td>9995.png</td>\n",
              "      <td>94</td>\n",
              "      <td>female</td>\n",
              "    </tr>\n",
              "    <tr>\n",
              "      <th>521</th>\n",
              "      <td>9996.png</td>\n",
              "      <td>94</td>\n",
              "      <td>female</td>\n",
              "    </tr>\n",
              "    <tr>\n",
              "      <th>5916</th>\n",
              "      <td>9997.png</td>\n",
              "      <td>144</td>\n",
              "      <td>female</td>\n",
              "    </tr>\n",
              "    <tr>\n",
              "      <th>1399</th>\n",
              "      <td>9998.png</td>\n",
              "      <td>69</td>\n",
              "      <td>female</td>\n",
              "    </tr>\n",
              "    <tr>\n",
              "      <th>6234</th>\n",
              "      <td>9999.png</td>\n",
              "      <td>192</td>\n",
              "      <td>male</td>\n",
              "    </tr>\n",
              "  </tbody>\n",
              "</table>\n",
              "<p>11349 rows × 3 columns</p>\n",
              "</div>\n",
              "      <button class=\"colab-df-convert\" onclick=\"convertToInteractive('df-5cedd1f8-275a-4d4e-8086-78bb91c436e7')\"\n",
              "              title=\"Convert this dataframe to an interactive table.\"\n",
              "              style=\"display:none;\">\n",
              "        \n",
              "  <svg xmlns=\"http://www.w3.org/2000/svg\" height=\"24px\"viewBox=\"0 0 24 24\"\n",
              "       width=\"24px\">\n",
              "    <path d=\"M0 0h24v24H0V0z\" fill=\"none\"/>\n",
              "    <path d=\"M18.56 5.44l.94 2.06.94-2.06 2.06-.94-2.06-.94-.94-2.06-.94 2.06-2.06.94zm-11 1L8.5 8.5l.94-2.06 2.06-.94-2.06-.94L8.5 2.5l-.94 2.06-2.06.94zm10 10l.94 2.06.94-2.06 2.06-.94-2.06-.94-.94-2.06-.94 2.06-2.06.94z\"/><path d=\"M17.41 7.96l-1.37-1.37c-.4-.4-.92-.59-1.43-.59-.52 0-1.04.2-1.43.59L10.3 9.45l-7.72 7.72c-.78.78-.78 2.05 0 2.83L4 21.41c.39.39.9.59 1.41.59.51 0 1.02-.2 1.41-.59l7.78-7.78 2.81-2.81c.8-.78.8-2.07 0-2.86zM5.41 20L4 18.59l7.72-7.72 1.47 1.35L5.41 20z\"/>\n",
              "  </svg>\n",
              "      </button>\n",
              "      \n",
              "  <style>\n",
              "    .colab-df-container {\n",
              "      display:flex;\n",
              "      flex-wrap:wrap;\n",
              "      gap: 12px;\n",
              "    }\n",
              "\n",
              "    .colab-df-convert {\n",
              "      background-color: #E8F0FE;\n",
              "      border: none;\n",
              "      border-radius: 50%;\n",
              "      cursor: pointer;\n",
              "      display: none;\n",
              "      fill: #1967D2;\n",
              "      height: 32px;\n",
              "      padding: 0 0 0 0;\n",
              "      width: 32px;\n",
              "    }\n",
              "\n",
              "    .colab-df-convert:hover {\n",
              "      background-color: #E2EBFA;\n",
              "      box-shadow: 0px 1px 2px rgba(60, 64, 67, 0.3), 0px 1px 3px 1px rgba(60, 64, 67, 0.15);\n",
              "      fill: #174EA6;\n",
              "    }\n",
              "\n",
              "    [theme=dark] .colab-df-convert {\n",
              "      background-color: #3B4455;\n",
              "      fill: #D2E3FC;\n",
              "    }\n",
              "\n",
              "    [theme=dark] .colab-df-convert:hover {\n",
              "      background-color: #434B5C;\n",
              "      box-shadow: 0px 1px 3px 1px rgba(0, 0, 0, 0.15);\n",
              "      filter: drop-shadow(0px 1px 2px rgba(0, 0, 0, 0.3));\n",
              "      fill: #FFFFFF;\n",
              "    }\n",
              "  </style>\n",
              "\n",
              "      <script>\n",
              "        const buttonEl =\n",
              "          document.querySelector('#df-5cedd1f8-275a-4d4e-8086-78bb91c436e7 button.colab-df-convert');\n",
              "        buttonEl.style.display =\n",
              "          google.colab.kernel.accessAllowed ? 'block' : 'none';\n",
              "\n",
              "        async function convertToInteractive(key) {\n",
              "          const element = document.querySelector('#df-5cedd1f8-275a-4d4e-8086-78bb91c436e7');\n",
              "          const dataTable =\n",
              "            await google.colab.kernel.invokeFunction('convertToInteractive',\n",
              "                                                     [key], {});\n",
              "          if (!dataTable) return;\n",
              "\n",
              "          const docLinkHtml = 'Like what you see? Visit the ' +\n",
              "            '<a target=\"_blank\" href=https://colab.research.google.com/notebooks/data_table.ipynb>data table notebook</a>'\n",
              "            + ' to learn more about interactive tables.';\n",
              "          element.innerHTML = '';\n",
              "          dataTable['output_type'] = 'display_data';\n",
              "          await google.colab.output.renderOutput(dataTable, element);\n",
              "          const docLink = document.createElement('div');\n",
              "          docLink.innerHTML = docLinkHtml;\n",
              "          element.appendChild(docLink);\n",
              "        }\n",
              "      </script>\n",
              "    </div>\n",
              "  </div>\n",
              "  "
            ],
            "text/plain": [
              "        fileName  boneage  gender\n",
              "3957   10000.png       96    male\n",
              "10831  10001.png      168    male\n",
              "132    10002.png      168    male\n",
              "3494   10003.png       76  female\n",
              "9580   10004.png      135    male\n",
              "...          ...      ...     ...\n",
              "4458    9995.png       94  female\n",
              "521     9996.png       94  female\n",
              "5916    9997.png      144  female\n",
              "1399    9998.png       69  female\n",
              "6234    9999.png      192    male\n",
              "\n",
              "[11349 rows x 3 columns]"
            ]
          },
          "execution_count": 9,
          "metadata": {},
          "output_type": "execute_result"
        }
      ],
      "source": [
        "df = pd.read_csv(f'{DATASET_TARGET_PATH}/train.csv')\n",
        "df = df.sort_values(by='fileName')[:]\n",
        "# df['gender'] = df['male'].map(lambda x: 1 if x==True else 0)\n",
        "df['gender'] = df['male'].map(lambda x: 'male' if x==True else 'female')\n",
        "df = df.drop(['male'], axis=1)\n",
        "df"
      ]
    },
    {
      "cell_type": "code",
      "execution_count": null,
      "metadata": {
        "id": "9rUCeNuT9n9B"
      },
      "outputs": [],
      "source": [
        "# # Split dataframe by gender\n",
        "# df_male = df.where(df['gender'] == 1).dropna()\n",
        "# df_female = df.where(df['gender'] == 0).dropna()"
      ]
    },
    {
      "cell_type": "code",
      "execution_count": null,
      "metadata": {
        "id": "uvmOKxc7-UuR"
      },
      "outputs": [],
      "source": [
        "# # Take some observations from each dataframe\n",
        "# df_male_subset = df_male.sample(n=2000)\n",
        "# df_female_subset = df_female.sample(n=2000)"
      ]
    },
    {
      "cell_type": "code",
      "execution_count": null,
      "metadata": {
        "id": "iq3cmBZh_t-x"
      },
      "outputs": [],
      "source": [
        "# # Combine dataframes\n",
        "# df = pd.concat([df_male_subset, df_female_subset], axis=0)"
      ]
    },
    {
      "cell_type": "markdown",
      "metadata": {
        "id": "2Pz_xqA13qU_"
      },
      "source": [
        "# Callback Initialization"
      ]
    },
    {
      "cell_type": "code",
      "execution_count": null,
      "metadata": {
        "id": "8wECCZHr63iY"
      },
      "outputs": [],
      "source": [
        "class CustomSaver(keras.callbacks.Callback):\n",
        "  def __init__(self, model_name):\n",
        "    self.model_name = model_name\n",
        "\n",
        "  def on_epoch_end(self, epoch, logs={}):\n",
        "    if (epoch+1) % 10 == 0:  # or save after some epoch, each 10-th epoch etc.\n",
        "      self.model.save(\"drive/MyDrive/Projects/Bone Age Regression/{}_{}_epochs.h5\".format(self.model_name, epoch+1))\n",
        "      print(\"\\nModel Saved at {} epochs\".format(epoch+1))\n",
        "\n",
        "from keras.callbacks import ModelCheckpoint\n",
        "checkpoint = ModelCheckpoint(\"best_model.hdf5\", monitor='loss', verbose=1,\n",
        "    save_best_only=True, mode='auto', save_freq=1)"
      ]
    },
    {
      "cell_type": "markdown",
      "metadata": {
        "id": "Trwsz33VB8m7"
      },
      "source": [
        "# Function for Saving Model and History"
      ]
    },
    {
      "cell_type": "code",
      "execution_count": null,
      "metadata": {
        "id": "TJdKTOIFB-qI"
      },
      "outputs": [],
      "source": [
        "def save(model, model_name, version, history, epoch=None, current_epoch=0, batch_size=32):\n",
        "  # cek existing history\n",
        "  assert epoch != None\n",
        "  try:\n",
        "    # if past training history existed\n",
        "    old_history = pd.read_csv(f'drive/MyDrive/Projects/Bone Age Regression/hist_{version}_{model_name}_bs-{batch_size}_{current_epoch}_model.csv')\n",
        "    df_history = pd.DataFrame({\n",
        "      \"loss\": old_history['loss'].tolist() + history.history[\"loss\"],\n",
        "      \"val_loss\": old_history['val_loss'].tolist() + history.history[\"val_loss\"],\n",
        "      \"mean_absolute_error\": old_history['mean_absolute_error'].tolist() + history.history[\"mean_absolute_error\"],\n",
        "      \"val_mean_absolute_error\": old_history['val_mean_absolute_error'].tolist() + history.history[\"val_mean_absolute_error\"],\n",
        "    })\n",
        "  except:\n",
        "    # create new training history\n",
        "    df_history = pd.DataFrame({\n",
        "      \"loss\": history.history[\"loss\"],\n",
        "      \"val_loss\": history.history[\"val_loss\"],\n",
        "      \"mean_absolute_error\": history.history[\"mean_absolute_error\"],\n",
        "      \"val_mean_absolute_error\": history.history[\"val_mean_absolute_error\"],\n",
        "    })\n",
        "  df_history.to_csv(f'drive/MyDrive/Projects/Bone Age Regression/hist_{version}_{model_name}_bs-{batch_size}_{epoch+current_epoch}_model.csv')\n",
        "  print(f'History: {version}_{model_name} Saved!')\n",
        "  model.save(f\"drive/MyDrive/Projects/Bone Age Regression/{version}_{model_name}_bs-{batch_size}_{epoch+current_epoch}_epochs.h5\")\n",
        "  print(f'Model: {version}_{model_name}_bs-{batch_size}_{epoch+current_epoch}_epochs Saved!')\n",
        "  return model, df_history"
      ]
    },
    {
      "cell_type": "markdown",
      "metadata": {
        "id": "LGPhJQyGHvrU"
      },
      "source": [
        "# Function for Drawing"
      ]
    },
    {
      "cell_type": "code",
      "execution_count": null,
      "metadata": {
        "id": "7t-mYOonHu8z"
      },
      "outputs": [],
      "source": [
        "def plot_hist(df_hist, model_name, version, gender=None, batch_size=32, MAX_Y=30):\n",
        "  print(df_hist)\n",
        "  if gender:\n",
        "    gender = 'Gender'\n",
        "  else:\n",
        "    gender = 'Non-Gender'\n",
        "  data = df_hist.copy()\n",
        "  data['Epochs'] = 0\n",
        "  for i in range(len(data[\"Epochs\"])):\n",
        "    data[\"Epochs\"][i] = i+1\n",
        "\n",
        "  fig = plt.figure(figsize=(10, 6))\n",
        "  ax1 = fig.add_subplot(111)\n",
        "\n",
        "  ax1.scatter(data[\"Epochs\"], data[\"mean_absolute_error\"], s=10, c='b', marker=\"o\", label='mean_absolute_error')\n",
        "  ax1.scatter(data[\"Epochs\"], data[\"val_mean_absolute_error\"], s=10, c='r', marker=\"o\", label='val_mean_absolute_error')\n",
        "  plt.legend(loc='upper right')\n",
        "\n",
        "  plt.gca().set_ylim([0, MAX_Y])\n",
        "  plt.gca().set_xlim([0, len(data[\"Epochs\"])+1])\n",
        "\n",
        "  # https://stackoverflow.com/questions/24943991/change-grid-interval-and-specify-tick-labels-in-matplotlib\n",
        "  # Major ticks every 20, minor ticks every 5\n",
        "  x_ticks = np.arange(0, len(data[\"Epochs\"])+1, 2)\n",
        "  y_ticks = np.arange(0, MAX_Y+1, 5)\n",
        "\n",
        "  ax1.set_xticks(x_ticks)\n",
        "  ax1.set_yticks(y_ticks)\n",
        "\n",
        "  plt.grid(True)\n",
        "  plt.suptitle(f\"{model_name} | {gender} | bs-{batch_size}\")\n",
        "  plt.xlabel(\"epochs\")\n",
        "  plt.ylabel(\"MAE\")\n",
        "  plt.savefig(f'drive/MyDrive/Projects/Bone Age Regression/plot_hist_{version}_{model_name}_{len(data)}_epochs')\n",
        "  plt.show()"
      ]
    },
    {
      "cell_type": "markdown",
      "metadata": {
        "id": "Z_h0v82lEJce"
      },
      "source": [
        "# Train-Validation-Test Split"
      ]
    },
    {
      "cell_type": "code",
      "execution_count": null,
      "metadata": {
        "id": "VIKCUZj2D7r0"
      },
      "outputs": [],
      "source": [
        "train_df, val_df = train_test_split(df, test_size=1/10, stratify=df['gender'])\n",
        "train_df, test_df = train_test_split(train_df, test_size=1/9, stratify=train_df['gender'])"
      ]
    },
    {
      "cell_type": "code",
      "execution_count": null,
      "metadata": {
        "colab": {
          "base_uri": "https://localhost:8080/",
          "height": 206
        },
        "id": "KHcPBhcIEEdJ",
        "outputId": "387e5ecc-1e03-4178-c911-738fb7605f4d"
      },
      "outputs": [
        {
          "data": {
            "text/html": [
              "\n",
              "  <div id=\"df-c56c82c8-4b23-4332-8895-1917a59eb8bd\">\n",
              "    <div class=\"colab-df-container\">\n",
              "      <div>\n",
              "<style scoped>\n",
              "    .dataframe tbody tr th:only-of-type {\n",
              "        vertical-align: middle;\n",
              "    }\n",
              "\n",
              "    .dataframe tbody tr th {\n",
              "        vertical-align: top;\n",
              "    }\n",
              "\n",
              "    .dataframe thead th {\n",
              "        text-align: right;\n",
              "    }\n",
              "</style>\n",
              "<table border=\"1\" class=\"dataframe\">\n",
              "  <thead>\n",
              "    <tr style=\"text-align: right;\">\n",
              "      <th></th>\n",
              "      <th>fileName</th>\n",
              "      <th>boneage</th>\n",
              "      <th>gender</th>\n",
              "    </tr>\n",
              "  </thead>\n",
              "  <tbody>\n",
              "    <tr>\n",
              "      <th>10131</th>\n",
              "      <td>9670.png</td>\n",
              "      <td>132</td>\n",
              "      <td>female</td>\n",
              "    </tr>\n",
              "    <tr>\n",
              "      <th>7844</th>\n",
              "      <td>5413.png</td>\n",
              "      <td>132</td>\n",
              "      <td>female</td>\n",
              "    </tr>\n",
              "    <tr>\n",
              "      <th>1605</th>\n",
              "      <td>2089.png</td>\n",
              "      <td>82</td>\n",
              "      <td>female</td>\n",
              "    </tr>\n",
              "    <tr>\n",
              "      <th>10454</th>\n",
              "      <td>7405.png</td>\n",
              "      <td>156</td>\n",
              "      <td>male</td>\n",
              "    </tr>\n",
              "    <tr>\n",
              "      <th>10878</th>\n",
              "      <td>12913.png</td>\n",
              "      <td>96</td>\n",
              "      <td>male</td>\n",
              "    </tr>\n",
              "  </tbody>\n",
              "</table>\n",
              "</div>\n",
              "      <button class=\"colab-df-convert\" onclick=\"convertToInteractive('df-c56c82c8-4b23-4332-8895-1917a59eb8bd')\"\n",
              "              title=\"Convert this dataframe to an interactive table.\"\n",
              "              style=\"display:none;\">\n",
              "        \n",
              "  <svg xmlns=\"http://www.w3.org/2000/svg\" height=\"24px\"viewBox=\"0 0 24 24\"\n",
              "       width=\"24px\">\n",
              "    <path d=\"M0 0h24v24H0V0z\" fill=\"none\"/>\n",
              "    <path d=\"M18.56 5.44l.94 2.06.94-2.06 2.06-.94-2.06-.94-.94-2.06-.94 2.06-2.06.94zm-11 1L8.5 8.5l.94-2.06 2.06-.94-2.06-.94L8.5 2.5l-.94 2.06-2.06.94zm10 10l.94 2.06.94-2.06 2.06-.94-2.06-.94-.94-2.06-.94 2.06-2.06.94z\"/><path d=\"M17.41 7.96l-1.37-1.37c-.4-.4-.92-.59-1.43-.59-.52 0-1.04.2-1.43.59L10.3 9.45l-7.72 7.72c-.78.78-.78 2.05 0 2.83L4 21.41c.39.39.9.59 1.41.59.51 0 1.02-.2 1.41-.59l7.78-7.78 2.81-2.81c.8-.78.8-2.07 0-2.86zM5.41 20L4 18.59l7.72-7.72 1.47 1.35L5.41 20z\"/>\n",
              "  </svg>\n",
              "      </button>\n",
              "      \n",
              "  <style>\n",
              "    .colab-df-container {\n",
              "      display:flex;\n",
              "      flex-wrap:wrap;\n",
              "      gap: 12px;\n",
              "    }\n",
              "\n",
              "    .colab-df-convert {\n",
              "      background-color: #E8F0FE;\n",
              "      border: none;\n",
              "      border-radius: 50%;\n",
              "      cursor: pointer;\n",
              "      display: none;\n",
              "      fill: #1967D2;\n",
              "      height: 32px;\n",
              "      padding: 0 0 0 0;\n",
              "      width: 32px;\n",
              "    }\n",
              "\n",
              "    .colab-df-convert:hover {\n",
              "      background-color: #E2EBFA;\n",
              "      box-shadow: 0px 1px 2px rgba(60, 64, 67, 0.3), 0px 1px 3px 1px rgba(60, 64, 67, 0.15);\n",
              "      fill: #174EA6;\n",
              "    }\n",
              "\n",
              "    [theme=dark] .colab-df-convert {\n",
              "      background-color: #3B4455;\n",
              "      fill: #D2E3FC;\n",
              "    }\n",
              "\n",
              "    [theme=dark] .colab-df-convert:hover {\n",
              "      background-color: #434B5C;\n",
              "      box-shadow: 0px 1px 3px 1px rgba(0, 0, 0, 0.15);\n",
              "      filter: drop-shadow(0px 1px 2px rgba(0, 0, 0, 0.3));\n",
              "      fill: #FFFFFF;\n",
              "    }\n",
              "  </style>\n",
              "\n",
              "      <script>\n",
              "        const buttonEl =\n",
              "          document.querySelector('#df-c56c82c8-4b23-4332-8895-1917a59eb8bd button.colab-df-convert');\n",
              "        buttonEl.style.display =\n",
              "          google.colab.kernel.accessAllowed ? 'block' : 'none';\n",
              "\n",
              "        async function convertToInteractive(key) {\n",
              "          const element = document.querySelector('#df-c56c82c8-4b23-4332-8895-1917a59eb8bd');\n",
              "          const dataTable =\n",
              "            await google.colab.kernel.invokeFunction('convertToInteractive',\n",
              "                                                     [key], {});\n",
              "          if (!dataTable) return;\n",
              "\n",
              "          const docLinkHtml = 'Like what you see? Visit the ' +\n",
              "            '<a target=\"_blank\" href=https://colab.research.google.com/notebooks/data_table.ipynb>data table notebook</a>'\n",
              "            + ' to learn more about interactive tables.';\n",
              "          element.innerHTML = '';\n",
              "          dataTable['output_type'] = 'display_data';\n",
              "          await google.colab.output.renderOutput(dataTable, element);\n",
              "          const docLink = document.createElement('div');\n",
              "          docLink.innerHTML = docLinkHtml;\n",
              "          element.appendChild(docLink);\n",
              "        }\n",
              "      </script>\n",
              "    </div>\n",
              "  </div>\n",
              "  "
            ],
            "text/plain": [
              "        fileName  boneage  gender\n",
              "10131   9670.png      132  female\n",
              "7844    5413.png      132  female\n",
              "1605    2089.png       82  female\n",
              "10454   7405.png      156    male\n",
              "10878  12913.png       96    male"
            ]
          },
          "execution_count": 14,
          "metadata": {},
          "output_type": "execute_result"
        }
      ],
      "source": [
        "train_df.head()"
      ]
    },
    {
      "cell_type": "code",
      "execution_count": null,
      "metadata": {
        "colab": {
          "base_uri": "https://localhost:8080/"
        },
        "id": "SkKdH8qYEGWY",
        "outputId": "6a103934-4c56-4cf8-b802-9e65e006fdbd"
      },
      "outputs": [
        {
          "name": "stdout",
          "output_type": "stream",
          "text": [
            "(9079, 3)\n",
            "(1135, 3)\n",
            "(1135, 3)\n"
          ]
        }
      ],
      "source": [
        "print(train_df.shape)\n",
        "print(val_df.shape)\n",
        "print(test_df.shape)"
      ]
    },
    {
      "cell_type": "code",
      "execution_count": null,
      "metadata": {
        "colab": {
          "base_uri": "https://localhost:8080/"
        },
        "id": "BVnKKwS7EGJv",
        "outputId": "c2016c79-506f-4e6f-d2f4-984c79d82426"
      },
      "outputs": [
        {
          "name": "stdout",
          "output_type": "stream",
          "text": [
            "           boneage\n",
            "count  9079.000000\n",
            "mean    127.324595\n",
            "std      41.335236\n",
            "min       1.000000\n",
            "25%      96.000000\n",
            "50%     132.000000\n",
            "75%     156.000000\n",
            "max     228.000000\n",
            "           boneage\n",
            "count  1135.000000\n",
            "mean    125.522467\n",
            "std      40.708985\n",
            "min       9.000000\n",
            "25%      94.000000\n",
            "50%     132.000000\n",
            "75%     156.000000\n",
            "max     216.000000\n",
            "           boneage\n",
            "count  1135.000000\n",
            "mean    127.717181\n",
            "std      40.541618\n",
            "min      12.000000\n",
            "25%     100.000000\n",
            "50%     132.000000\n",
            "75%     156.000000\n",
            "max     228.000000\n"
          ]
        }
      ],
      "source": [
        "print(train_df.describe())\n",
        "print(val_df.describe())\n",
        "print(test_df.describe())"
      ]
    },
    {
      "cell_type": "markdown",
      "metadata": {
        "id": "V8b74aH2EKvm"
      },
      "source": [
        "# Custom Generator from DataFrame"
      ]
    },
    {
      "cell_type": "code",
      "execution_count": null,
      "metadata": {
        "id": "Z9Pil8c8EM0U"
      },
      "outputs": [],
      "source": [
        "df_gen = ImageDataGenerator(rescale=1.0/255)\n",
        "\n",
        "def gen_flow_for_two_inputs_from_dataframe(dataframe: pd.DataFrame):\n",
        "\n",
        "  directory = f'{DATASET_TARGET_PATH}/images'\n",
        "\n",
        "  genX1 = df_gen.flow_from_dataframe(\n",
        "      dataframe=dataframe,\n",
        "      directory=directory,\n",
        "      x_col=\"fileName\",\n",
        "      y_col=\"boneage\",\n",
        "      class_mode=\"raw\",\n",
        "      target_size=(224, 224),\n",
        "      validate_filenames=True\n",
        "  )\n",
        "\n",
        "  genX2 = df_gen.flow_from_dataframe(\n",
        "      dataframe=dataframe,\n",
        "      directory=directory,\n",
        "      x_col=\"fileName\",\n",
        "      y_col=\"gender\",\n",
        "      class_mode=\"binary\",\n",
        "      target_size=(224, 224),\n",
        "      validate_filenames=True\n",
        "  )\n",
        "\n",
        "  while True:\n",
        "    X1 = genX1.next()\n",
        "    X2 = genX2.next()\n",
        "    yield [X1[0], X2[1]], X1[1]"
      ]
    },
    {
      "cell_type": "code",
      "execution_count": null,
      "metadata": {
        "id": "-jbymSJOEQ4l"
      },
      "outputs": [],
      "source": [
        "train_generator = gen_flow_for_two_inputs_from_dataframe(train_df)\n",
        "validation_generator = gen_flow_for_two_inputs_from_dataframe(val_df)\n",
        "test_generator = gen_flow_for_two_inputs_from_dataframe(test_df)"
      ]
    },
    {
      "cell_type": "markdown",
      "metadata": {
        "id": "aANksOiFERjI"
      },
      "source": [
        "# MobileNetV2"
      ]
    },
    {
      "cell_type": "code",
      "execution_count": null,
      "metadata": {
        "colab": {
          "base_uri": "https://localhost:8080/"
        },
        "id": "aAhmkmGEETgF",
        "outputId": "79a33dd8-21b5-420c-9f9d-a5caf0a94811"
      },
      "outputs": [
        {
          "name": "stdout",
          "output_type": "stream",
          "text": [
            "Downloading data from https://storage.googleapis.com/tensorflow/keras-applications/mobilenet_v2/mobilenet_v2_weights_tf_dim_ordering_tf_kernels_1.0_224_no_top.h5\n",
            "9412608/9406464 [==============================] - 0s 0us/step\n",
            "9420800/9406464 [==============================] - 0s 0us/step\n"
          ]
        }
      ],
      "source": [
        "from tensorflow.keras.applications import MobileNetV2, DenseNet201, ResNet50\n",
        "\n",
        "model_name = 'Bone-Age-MobileNetV2'\n",
        "version = 'PreTrained-256-256-G-64-conc-256-256'\n",
        "\n",
        "pre_trained_model = MobileNetV2(include_top=False, weights='imagenet', input_shape=(224, 224, 3))\n",
        "\n",
        "# freeze layers of the pretrained model's\n",
        "for layer in pre_trained_model.layers[:]:\n",
        "    layer.trainable = False"
      ]
    },
    {
      "cell_type": "code",
      "execution_count": null,
      "metadata": {
        "id": "w6yfYj-LEbSI"
      },
      "outputs": [],
      "source": [
        "# Flatten the pretrained model's output layers\n",
        "feature_img = pre_trained_model.output\n",
        "feature_img = layers.Conv2D(256, kernel_size=(2, 2), activation='relu')(feature_img)\n",
        "feature_img = layers.Conv2D(256, kernel_size=(2, 2), activation='relu')(feature_img)\n",
        "feature_img = layers.Flatten()(feature_img)\n",
        "\n",
        "# Gender FC layers\n",
        "input_gender = layers.Input(shape=(1,), name='Input-Gender')\n",
        "feature_gender = layers.Dense(64, activation='relu', name='feature-layer-1')(input_gender)\n",
        "# feature_gender = layers.Dense(64, activation='relu', name='feature-layer-2')(feature_gender)\n",
        "\n",
        "feature = layers.concatenate([feature_img, feature_gender])\n",
        "\n",
        "# Fully connected layer 1\n",
        "x = tf.keras.layers.Dense(256, activation='relu')(feature)\n",
        "x = tf.keras.layers.Dense(256, activation='relu')(x)\n",
        "\n",
        "# Fully connected layer, output layer\n",
        "out = tf.keras.layers.Dense(1, name=\"Output-Layer\")(x)\n",
        "\n",
        "model = tf.keras.models.Model(inputs=[pre_trained_model.input, input_gender], outputs=out, name=model_name)"
      ]
    },
    {
      "cell_type": "code",
      "execution_count": null,
      "metadata": {
        "id": "tnjqKLsOEmW_"
      },
      "outputs": [],
      "source": [
        "adam = tf.keras.optimizers.Adam(learning_rate=0.001)\n",
        "model.compile(loss='mean_absolute_error', metrics=[MeanAbsoluteError()], optimizer = adam)"
      ]
    },
    {
      "cell_type": "markdown",
      "metadata": {
        "id": "ubkF1qZeGFOb"
      },
      "source": [
        "# Fitting"
      ]
    },
    {
      "cell_type": "code",
      "execution_count": null,
      "metadata": {
        "colab": {
          "base_uri": "https://localhost:8080/"
        },
        "id": "mnu6iXMgE1_o",
        "outputId": "f83a220d-f31d-4886-f544-54ee9c2abad8"
      },
      "outputs": [
        {
          "name": "stdout",
          "output_type": "stream",
          "text": [
            "Epoch 1/20\n",
            "70/70 [==============================] - ETA: 0s - loss: 26.3288 - mean_absolute_error: 26.3288Found 1135 non-validated image filenames.\n",
            "Found 1135 non-validated image filenames belonging to 2 classes.\n",
            "70/70 [==============================] - 318s 5s/step - loss: 26.3288 - mean_absolute_error: 26.3288 - val_loss: 24.5288 - val_mean_absolute_error: 24.5288\n",
            "Epoch 2/20\n",
            "70/70 [==============================] - 276s 4s/step - loss: 23.5379 - mean_absolute_error: 23.5379 - val_loss: 28.2515 - val_mean_absolute_error: 28.2515\n",
            "Epoch 3/20\n",
            "70/70 [==============================] - 372s 5s/step - loss: 21.8699 - mean_absolute_error: 21.8699 - val_loss: 27.6982 - val_mean_absolute_error: 27.6982\n",
            "Epoch 4/20\n",
            "70/70 [==============================] - 364s 5s/step - loss: 20.7002 - mean_absolute_error: 20.6994 - val_loss: 22.9377 - val_mean_absolute_error: 22.9377\n",
            "Epoch 5/20\n",
            "70/70 [==============================] - 267s 4s/step - loss: 18.9499 - mean_absolute_error: 18.9499 - val_loss: 17.0071 - val_mean_absolute_error: 17.0071\n",
            "Epoch 6/20\n",
            "70/70 [==============================] - 304s 4s/step - loss: 18.6589 - mean_absolute_error: 18.6589 - val_loss: 18.2596 - val_mean_absolute_error: 18.2596\n",
            "Epoch 7/20\n",
            "70/70 [==============================] - 309s 4s/step - loss: 19.2324 - mean_absolute_error: 19.2324 - val_loss: 18.6642 - val_mean_absolute_error: 18.6642\n",
            "Epoch 8/20\n",
            "70/70 [==============================] - 316s 5s/step - loss: 17.8338 - mean_absolute_error: 17.8291 - val_loss: 21.5197 - val_mean_absolute_error: 21.5197\n",
            "Epoch 9/20\n",
            "70/70 [==============================] - 226s 3s/step - loss: 18.9743 - mean_absolute_error: 18.9743 - val_loss: 17.9777 - val_mean_absolute_error: 17.9777\n",
            "Epoch 10/20\n",
            "70/70 [==============================] - ETA: 0s - loss: 17.9825 - mean_absolute_error: 17.9825\n",
            "Model Saved at 10 epochs\n",
            "70/70 [==============================] - 247s 4s/step - loss: 17.9825 - mean_absolute_error: 17.9825 - val_loss: 17.3352 - val_mean_absolute_error: 17.3352\n",
            "Epoch 11/20\n",
            "70/70 [==============================] - 307s 4s/step - loss: 17.8998 - mean_absolute_error: 17.8998 - val_loss: 19.0434 - val_mean_absolute_error: 19.0434\n",
            "Epoch 12/20\n",
            "70/70 [==============================] - 327s 5s/step - loss: 16.9107 - mean_absolute_error: 16.9091 - val_loss: 18.6784 - val_mean_absolute_error: 18.6784\n",
            "Epoch 13/20\n",
            "70/70 [==============================] - 225s 3s/step - loss: 15.8977 - mean_absolute_error: 15.8977 - val_loss: 16.9926 - val_mean_absolute_error: 16.9926\n",
            "Epoch 14/20\n",
            "70/70 [==============================] - 249s 4s/step - loss: 16.6515 - mean_absolute_error: 16.6515 - val_loss: 17.3272 - val_mean_absolute_error: 17.3272\n",
            "Epoch 15/20\n",
            "70/70 [==============================] - 295s 4s/step - loss: 16.6202 - mean_absolute_error: 16.6202 - val_loss: 17.7121 - val_mean_absolute_error: 17.7121\n",
            "Epoch 16/20\n",
            "70/70 [==============================] - 331s 5s/step - loss: 17.1692 - mean_absolute_error: 17.1976 - val_loss: 18.0356 - val_mean_absolute_error: 18.0356\n",
            "Epoch 17/20\n",
            "70/70 [==============================] - 218s 3s/step - loss: 14.9562 - mean_absolute_error: 14.9562 - val_loss: 17.3227 - val_mean_absolute_error: 17.3227\n",
            "Epoch 18/20\n",
            "70/70 [==============================] - 238s 3s/step - loss: 14.9757 - mean_absolute_error: 14.9757 - val_loss: 16.5346 - val_mean_absolute_error: 16.5346\n",
            "Epoch 19/20\n",
            "70/70 [==============================] - 290s 4s/step - loss: 15.7521 - mean_absolute_error: 15.7521 - val_loss: 16.6689 - val_mean_absolute_error: 16.6689\n",
            "Epoch 20/20\n",
            "70/70 [==============================] - ETA: 0s - loss: 16.5965 - mean_absolute_error: 16.6090\n",
            "Model Saved at 20 epochs\n",
            "70/70 [==============================] - 347s 5s/step - loss: 16.5965 - mean_absolute_error: 16.6090 - val_loss: 18.7120 - val_mean_absolute_error: 18.7120\n"
          ]
        }
      ],
      "source": [
        "batch_size = 128\n",
        "epochs = 20\n",
        "\n",
        "train_size = len(train_df)\n",
        "steps_per_epoch = train_size // batch_size\n",
        "\n",
        "val_size = len(val_df)\n",
        "validation_steps = val_size // batch_size\n",
        "\n",
        "hist_model = model.fit(\n",
        "    train_generator,\n",
        "    epochs = epochs, \n",
        "    validation_data = validation_generator,\n",
        "    steps_per_epoch = steps_per_epoch,\n",
        "    validation_steps = validation_steps,\n",
        "    callbacks = [CustomSaver(model_name)],\n",
        ")"
      ]
    },
    {
      "cell_type": "markdown",
      "metadata": {
        "id": "x4_Z_FcnUOas"
      },
      "source": [
        "# Evaluate"
      ]
    },
    {
      "cell_type": "code",
      "execution_count": null,
      "metadata": {
        "colab": {
          "base_uri": "https://localhost:8080/"
        },
        "id": "G0oCgh5-E3h2",
        "outputId": "9532bb75-305e-4471-ed4d-fe47324af9d2"
      },
      "outputs": [
        {
          "name": "stdout",
          "output_type": "stream",
          "text": [
            "8/8 [==============================] - 77s 11s/step - loss: 19.3219 - mean_absolute_error: 19.3219\n"
          ]
        },
        {
          "data": {
            "text/plain": [
              "[19.321880340576172, 19.321880340576172]"
            ]
          },
          "execution_count": 33,
          "metadata": {},
          "output_type": "execute_result"
        }
      ],
      "source": [
        "test_size = len(test_df)\n",
        "test_steps = test_size // batch_size\n",
        "\n",
        "model.evaluate(test_generator, steps=test_steps)"
      ]
    },
    {
      "cell_type": "code",
      "execution_count": null,
      "metadata": {
        "id": "ZaDdugWSE45-"
      },
      "outputs": [],
      "source": [
        "model, df_hist_model = save(\n",
        "    model, \n",
        "    model_name, \n",
        "    version, \n",
        "    hist_model, \n",
        "    epoch=epochs, \n",
        "    current_epoch=0, \n",
        "    batch_size=batch_size\n",
        ")"
      ]
    },
    {
      "cell_type": "code",
      "execution_count": null,
      "metadata": {
        "colab": {
          "base_uri": "https://localhost:8080/",
          "height": 1000
        },
        "id": "OiHj38K3E5sq",
        "outputId": "f88eba70-35f8-4cc0-e54b-907e756cfb53"
      },
      "outputs": [
        {
          "name": "stdout",
          "output_type": "stream",
          "text": [
            "    Unnamed: 0       loss   val_loss  mean_absolute_error  \\\n",
            "0            0  26.328823  24.528843            26.328823   \n",
            "1            1  23.537943  28.251455            23.537943   \n",
            "2            2  21.869850  27.698242            21.869850   \n",
            "3            3  20.700243  22.937710            20.699350   \n",
            "4            4  18.949867  17.007128            18.949867   \n",
            "5            5  18.658871  18.259615            18.658871   \n",
            "6            6  19.232378  18.664154            19.232378   \n",
            "7            7  17.833847  21.519669            17.829077   \n",
            "8            8  18.974316  17.977715            18.974316   \n",
            "9            9  17.982536  17.335161            17.982536   \n",
            "10          10  17.899767  19.043446            17.899767   \n",
            "11          11  16.910696  18.678413            16.909100   \n",
            "12          12  15.897676  16.992601            15.897676   \n",
            "13          13  16.651478  17.327162            16.651478   \n",
            "14          14  16.620199  17.712063            16.620199   \n",
            "15          15  17.169182  18.035610            17.197615   \n",
            "16          16  14.956189  17.322741            14.956189   \n",
            "17          17  14.975725  16.534639            14.975725   \n",
            "18          18  15.752107  16.668941            15.752107   \n",
            "19          19  16.596527  18.712046            16.608995   \n",
            "\n",
            "    val_mean_absolute_error  \n",
            "0                 24.528843  \n",
            "1                 28.251455  \n",
            "2                 27.698242  \n",
            "3                 22.937710  \n",
            "4                 17.007128  \n",
            "5                 18.259615  \n",
            "6                 18.664154  \n",
            "7                 21.519669  \n",
            "8                 17.977715  \n",
            "9                 17.335161  \n",
            "10                19.043446  \n",
            "11                18.678413  \n",
            "12                16.992601  \n",
            "13                17.327162  \n",
            "14                17.712063  \n",
            "15                18.035610  \n",
            "16                17.322741  \n",
            "17                16.534639  \n",
            "18                16.668941  \n",
            "19                18.712046  \n"
          ]
        },
        {
          "name": "stderr",
          "output_type": "stream",
          "text": [
            "/usr/local/lib/python3.7/dist-packages/ipykernel_launcher.py:10: SettingWithCopyWarning: \n",
            "A value is trying to be set on a copy of a slice from a DataFrame\n",
            "\n",
            "See the caveats in the documentation: https://pandas.pydata.org/pandas-docs/stable/user_guide/indexing.html#returning-a-view-versus-a-copy\n",
            "  # Remove the CWD from sys.path while we load stuff.\n"
          ]
        },
        {
          "data": {
            "image/png": "[encoded data removed]",
            "text/plain": [
              "<Figure size 720x432 with 1 Axes>"
            ]
          },
          "metadata": {
            "needs_background": "light"
          },
          "output_type": "display_data"
        }
      ],
      "source": [
        "plot_hist(df_hist_model, model_name, version, gender=True, batch_size=batch_size)"
      ]
    },
    {
      "cell_type": "code",
      "execution_count": null,
      "metadata": {
        "colab": {
          "base_uri": "https://localhost:8080/"
        },
        "id": "WhRExR8FMG2Q",
        "outputId": "bdf5ec03-2e23-42c9-d4a2-d493788bafbe"
      },
      "outputs": [
        {
          "name": "stdout",
          "output_type": "stream",
          "text": [
            "Model: \"Bone-Age-MobileNetV2\"\n",
            "__________________________________________________________________________________________________\n",
            " Layer (type)                   Output Shape         Param #     Connected to                     \n",
            "==================================================================================================\n",
            " input_1 (InputLayer)           [(None, 224, 224, 3  0           []                               \n",
            "                                )]                                                                \n",
            "                                                                                                  \n",
            " Conv1 (Conv2D)                 (None, 112, 112, 32  864         ['input_1[0][0]']                \n",
            "                                )                                                                 \n",
            "                                                                                                  \n",
            " bn_Conv1 (BatchNormalization)  (None, 112, 112, 32  128         ['Conv1[0][0]']                  \n",
            "                                )                                                                 \n",
            "                                                                                                  \n",
            " Conv1_relu (ReLU)              (None, 112, 112, 32  0           ['bn_Conv1[0][0]']               \n",
            "                                )                                                                 \n",
            "                                                                                                  \n",
            " expanded_conv_depthwise (Depth  (None, 112, 112, 32  288        ['Conv1_relu[0][0]']             \n",
            " wiseConv2D)                    )                                                                 \n",
            "                                                                                                  \n",
            " expanded_conv_depthwise_BN (Ba  (None, 112, 112, 32  128        ['expanded_conv_depthwise[0][0]']\n",
            " tchNormalization)              )                                                                 \n",
            "                                                                                                  \n",
            " expanded_conv_depthwise_relu (  (None, 112, 112, 32  0          ['expanded_conv_depthwise_BN[0][0\n",
            " ReLU)                          )                                ]']                              \n",
            "                                                                                                  \n",
            " expanded_conv_project (Conv2D)  (None, 112, 112, 16  512        ['expanded_conv_depthwise_relu[0]\n",
            "                                )                                [0]']                            \n",
            "                                                                                                  \n",
            " expanded_conv_project_BN (Batc  (None, 112, 112, 16  64         ['expanded_conv_project[0][0]']  \n",
            " hNormalization)                )                                                                 \n",
            "                                                                                                  \n",
            " block_1_expand (Conv2D)        (None, 112, 112, 96  1536        ['expanded_conv_project_BN[0][0]'\n",
            "                                )                                ]                                \n",
            "                                                                                                  \n",
            " block_1_expand_BN (BatchNormal  (None, 112, 112, 96  384        ['block_1_expand[0][0]']         \n",
            " ization)                       )                                                                 \n",
            "                                                                                                  \n",
            " block_1_expand_relu (ReLU)     (None, 112, 112, 96  0           ['block_1_expand_BN[0][0]']      \n",
            "                                )                                                                 \n",
            "                                                                                                  \n",
            " block_1_pad (ZeroPadding2D)    (None, 113, 113, 96  0           ['block_1_expand_relu[0][0]']    \n",
            "                                )                                                                 \n",
            "                                                                                                  \n",
            " block_1_depthwise (DepthwiseCo  (None, 56, 56, 96)  864         ['block_1_pad[0][0]']            \n",
            " nv2D)                                                                                            \n",
            "                                                                                                  \n",
            " block_1_depthwise_BN (BatchNor  (None, 56, 56, 96)  384         ['block_1_depthwise[0][0]']      \n",
            " malization)                                                                                      \n",
            "                                                                                                  \n",
            " block_1_depthwise_relu (ReLU)  (None, 56, 56, 96)   0           ['block_1_depthwise_BN[0][0]']   \n",
            "                                                                                                  \n",
            " block_1_project (Conv2D)       (None, 56, 56, 24)   2304        ['block_1_depthwise_relu[0][0]'] \n",
            "                                                                                                  \n",
            " block_1_project_BN (BatchNorma  (None, 56, 56, 24)  96          ['block_1_project[0][0]']        \n",
            " lization)                                                                                        \n",
            "                                                                                                  \n",
            " block_2_expand (Conv2D)        (None, 56, 56, 144)  3456        ['block_1_project_BN[0][0]']     \n",
            "                                                                                                  \n",
            " block_2_expand_BN (BatchNormal  (None, 56, 56, 144)  576        ['block_2_expand[0][0]']         \n",
            " ization)                                                                                         \n",
            "                                                                                                  \n",
            " block_2_expand_relu (ReLU)     (None, 56, 56, 144)  0           ['block_2_expand_BN[0][0]']      \n",
            "                                                                                                  \n",
            " block_2_depthwise (DepthwiseCo  (None, 56, 56, 144)  1296       ['block_2_expand_relu[0][0]']    \n",
            " nv2D)                                                                                            \n",
            "                                                                                                  \n",
            " block_2_depthwise_BN (BatchNor  (None, 56, 56, 144)  576        ['block_2_depthwise[0][0]']      \n",
            " malization)                                                                                      \n",
            "                                                                                                  \n",
            " block_2_depthwise_relu (ReLU)  (None, 56, 56, 144)  0           ['block_2_depthwise_BN[0][0]']   \n",
            "                                                                                                  \n",
            " block_2_project (Conv2D)       (None, 56, 56, 24)   3456        ['block_2_depthwise_relu[0][0]'] \n",
            "                                                                                                  \n",
            " block_2_project_BN (BatchNorma  (None, 56, 56, 24)  96          ['block_2_project[0][0]']        \n",
            " lization)                                                                                        \n",
            "                                                                                                  \n",
            " block_2_add (Add)              (None, 56, 56, 24)   0           ['block_1_project_BN[0][0]',     \n",
            "                                                                  'block_2_project_BN[0][0]']     \n",
            "                                                                                                  \n",
            " block_3_expand (Conv2D)        (None, 56, 56, 144)  3456        ['block_2_add[0][0]']            \n",
            "                                                                                                  \n",
            " block_3_expand_BN (BatchNormal  (None, 56, 56, 144)  576        ['block_3_expand[0][0]']         \n",
            " ization)                                                                                         \n",
            "                                                                                                  \n",
            " block_3_expand_relu (ReLU)     (None, 56, 56, 144)  0           ['block_3_expand_BN[0][0]']      \n",
            "                                                                                                  \n",
            " block_3_pad (ZeroPadding2D)    (None, 57, 57, 144)  0           ['block_3_expand_relu[0][0]']    \n",
            "                                                                                                  \n",
            " block_3_depthwise (DepthwiseCo  (None, 28, 28, 144)  1296       ['block_3_pad[0][0]']            \n",
            " nv2D)                                                                                            \n",
            "                                                                                                  \n",
            " block_3_depthwise_BN (BatchNor  (None, 28, 28, 144)  576        ['block_3_depthwise[0][0]']      \n",
            " malization)                                                                                      \n",
            "                                                                                                  \n",
            " block_3_depthwise_relu (ReLU)  (None, 28, 28, 144)  0           ['block_3_depthwise_BN[0][0]']   \n",
            "                                                                                                  \n",
            " block_3_project (Conv2D)       (None, 28, 28, 32)   4608        ['block_3_depthwise_relu[0][0]'] \n",
            "                                                                                                  \n",
            " block_3_project_BN (BatchNorma  (None, 28, 28, 32)  128         ['block_3_project[0][0]']        \n",
            " lization)                                                                                        \n",
            "                                                                                                  \n",
            " block_4_expand (Conv2D)        (None, 28, 28, 192)  6144        ['block_3_project_BN[0][0]']     \n",
            "                                                                                                  \n",
            " block_4_expand_BN (BatchNormal  (None, 28, 28, 192)  768        ['block_4_expand[0][0]']         \n",
            " ization)                                                                                         \n",
            "                                                                                                  \n",
            " block_4_expand_relu (ReLU)     (None, 28, 28, 192)  0           ['block_4_expand_BN[0][0]']      \n",
            "                                                                                                  \n",
            " block_4_depthwise (DepthwiseCo  (None, 28, 28, 192)  1728       ['block_4_expand_relu[0][0]']    \n",
            " nv2D)                                                                                            \n",
            "                                                                                                  \n",
            " block_4_depthwise_BN (BatchNor  (None, 28, 28, 192)  768        ['block_4_depthwise[0][0]']      \n",
            " malization)                                                                                      \n",
            "                                                                                                  \n",
            " block_4_depthwise_relu (ReLU)  (None, 28, 28, 192)  0           ['block_4_depthwise_BN[0][0]']   \n",
            "                                                                                                  \n",
            " block_4_project (Conv2D)       (None, 28, 28, 32)   6144        ['block_4_depthwise_relu[0][0]'] \n",
            "                                                                                                  \n",
            " block_4_project_BN (BatchNorma  (None, 28, 28, 32)  128         ['block_4_project[0][0]']        \n",
            " lization)                                                                                        \n",
            "                                                                                                  \n",
            " block_4_add (Add)              (None, 28, 28, 32)   0           ['block_3_project_BN[0][0]',     \n",
            "                                                                  'block_4_project_BN[0][0]']     \n",
            "                                                                                                  \n",
            " block_5_expand (Conv2D)        (None, 28, 28, 192)  6144        ['block_4_add[0][0]']            \n",
            "                                                                                                  \n",
            " block_5_expand_BN (BatchNormal  (None, 28, 28, 192)  768        ['block_5_expand[0][0]']         \n",
            " ization)                                                                                         \n",
            "                                                                                                  \n",
            " block_5_expand_relu (ReLU)     (None, 28, 28, 192)  0           ['block_5_expand_BN[0][0]']      \n",
            "                                                                                                  \n",
            " block_5_depthwise (DepthwiseCo  (None, 28, 28, 192)  1728       ['block_5_expand_relu[0][0]']    \n",
            " nv2D)                                                                                            \n",
            "                                                                                                  \n",
            " block_5_depthwise_BN (BatchNor  (None, 28, 28, 192)  768        ['block_5_depthwise[0][0]']      \n",
            " malization)                                                                                      \n",
            "                                                                                                  \n",
            " block_5_depthwise_relu (ReLU)  (None, 28, 28, 192)  0           ['block_5_depthwise_BN[0][0]']   \n",
            "                                                                                                  \n",
            " block_5_project (Conv2D)       (None, 28, 28, 32)   6144        ['block_5_depthwise_relu[0][0]'] \n",
            "                                                                                                  \n",
            " block_5_project_BN (BatchNorma  (None, 28, 28, 32)  128         ['block_5_project[0][0]']        \n",
            " lization)                                                                                        \n",
            "                                                                                                  \n",
            " block_5_add (Add)              (None, 28, 28, 32)   0           ['block_4_add[0][0]',            \n",
            "                                                                  'block_5_project_BN[0][0]']     \n",
            "                                                                                                  \n",
            " block_6_expand (Conv2D)        (None, 28, 28, 192)  6144        ['block_5_add[0][0]']            \n",
            "                                                                                                  \n",
            " block_6_expand_BN (BatchNormal  (None, 28, 28, 192)  768        ['block_6_expand[0][0]']         \n",
            " ization)                                                                                         \n",
            "                                                                                                  \n",
            " block_6_expand_relu (ReLU)     (None, 28, 28, 192)  0           ['block_6_expand_BN[0][0]']      \n",
            "                                                                                                  \n",
            " block_6_pad (ZeroPadding2D)    (None, 29, 29, 192)  0           ['block_6_expand_relu[0][0]']    \n",
            "                                                                                                  \n",
            " block_6_depthwise (DepthwiseCo  (None, 14, 14, 192)  1728       ['block_6_pad[0][0]']            \n",
            " nv2D)                                                                                            \n",
            "                                                                                                  \n",
            " block_6_depthwise_BN (BatchNor  (None, 14, 14, 192)  768        ['block_6_depthwise[0][0]']      \n",
            " malization)                                                                                      \n",
            "                                                                                                  \n",
            " block_6_depthwise_relu (ReLU)  (None, 14, 14, 192)  0           ['block_6_depthwise_BN[0][0]']   \n",
            "                                                                                                  \n",
            " block_6_project (Conv2D)       (None, 14, 14, 64)   12288       ['block_6_depthwise_relu[0][0]'] \n",
            "                                                                                                  \n",
            " block_6_project_BN (BatchNorma  (None, 14, 14, 64)  256         ['block_6_project[0][0]']        \n",
            " lization)                                                                                        \n",
            "                                                                                                  \n",
            " block_7_expand (Conv2D)        (None, 14, 14, 384)  24576       ['block_6_project_BN[0][0]']     \n",
            "                                                                                                  \n",
            " block_7_expand_BN (BatchNormal  (None, 14, 14, 384)  1536       ['block_7_expand[0][0]']         \n",
            " ization)                                                                                         \n",
            "                                                                                                  \n",
            " block_7_expand_relu (ReLU)     (None, 14, 14, 384)  0           ['block_7_expand_BN[0][0]']      \n",
            "                                                                                                  \n",
            " block_7_depthwise (DepthwiseCo  (None, 14, 14, 384)  3456       ['block_7_expand_relu[0][0]']    \n",
            " nv2D)                                                                                            \n",
            "                                                                                                  \n",
            " block_7_depthwise_BN (BatchNor  (None, 14, 14, 384)  1536       ['block_7_depthwise[0][0]']      \n",
            " malization)                                                                                      \n",
            "                                                                                                  \n",
            " block_7_depthwise_relu (ReLU)  (None, 14, 14, 384)  0           ['block_7_depthwise_BN[0][0]']   \n",
            "                                                                                                  \n",
            " block_7_project (Conv2D)       (None, 14, 14, 64)   24576       ['block_7_depthwise_relu[0][0]'] \n",
            "                                                                                                  \n",
            " block_7_project_BN (BatchNorma  (None, 14, 14, 64)  256         ['block_7_project[0][0]']        \n",
            " lization)                                                                                        \n",
            "                                                                                                  \n",
            " block_7_add (Add)              (None, 14, 14, 64)   0           ['block_6_project_BN[0][0]',     \n",
            "                                                                  'block_7_project_BN[0][0]']     \n",
            "                                                                                                  \n",
            " block_8_expand (Conv2D)        (None, 14, 14, 384)  24576       ['block_7_add[0][0]']            \n",
            "                                                                                                  \n",
            " block_8_expand_BN (BatchNormal  (None, 14, 14, 384)  1536       ['block_8_expand[0][0]']         \n",
            " ization)                                                                                         \n",
            "                                                                                                  \n",
            " block_8_expand_relu (ReLU)     (None, 14, 14, 384)  0           ['block_8_expand_BN[0][0]']      \n",
            "                                                                                                  \n",
            " block_8_depthwise (DepthwiseCo  (None, 14, 14, 384)  3456       ['block_8_expand_relu[0][0]']    \n",
            " nv2D)                                                                                            \n",
            "                                                                                                  \n",
            " block_8_depthwise_BN (BatchNor  (None, 14, 14, 384)  1536       ['block_8_depthwise[0][0]']      \n",
            " malization)                                                                                      \n",
            "                                                                                                  \n",
            " block_8_depthwise_relu (ReLU)  (None, 14, 14, 384)  0           ['block_8_depthwise_BN[0][0]']   \n",
            "                                                                                                  \n",
            " block_8_project (Conv2D)       (None, 14, 14, 64)   24576       ['block_8_depthwise_relu[0][0]'] \n",
            "                                                                                                  \n",
            " block_8_project_BN (BatchNorma  (None, 14, 14, 64)  256         ['block_8_project[0][0]']        \n",
            " lization)                                                                                        \n",
            "                                                                                                  \n",
            " block_8_add (Add)              (None, 14, 14, 64)   0           ['block_7_add[0][0]',            \n",
            "                                                                  'block_8_project_BN[0][0]']     \n",
            "                                                                                                  \n",
            " block_9_expand (Conv2D)        (None, 14, 14, 384)  24576       ['block_8_add[0][0]']            \n",
            "                                                                                                  \n",
            " block_9_expand_BN (BatchNormal  (None, 14, 14, 384)  1536       ['block_9_expand[0][0]']         \n",
            " ization)                                                                                         \n",
            "                                                                                                  \n",
            " block_9_expand_relu (ReLU)     (None, 14, 14, 384)  0           ['block_9_expand_BN[0][0]']      \n",
            "                                                                                                  \n",
            " block_9_depthwise (DepthwiseCo  (None, 14, 14, 384)  3456       ['block_9_expand_relu[0][0]']    \n",
            " nv2D)                                                                                            \n",
            "                                                                                                  \n",
            " block_9_depthwise_BN (BatchNor  (None, 14, 14, 384)  1536       ['block_9_depthwise[0][0]']      \n",
            " malization)                                                                                      \n",
            "                                                                                                  \n",
            " block_9_depthwise_relu (ReLU)  (None, 14, 14, 384)  0           ['block_9_depthwise_BN[0][0]']   \n",
            "                                                                                                  \n",
            " block_9_project (Conv2D)       (None, 14, 14, 64)   24576       ['block_9_depthwise_relu[0][0]'] \n",
            "                                                                                                  \n",
            " block_9_project_BN (BatchNorma  (None, 14, 14, 64)  256         ['block_9_project[0][0]']        \n",
            " lization)                                                                                        \n",
            "                                                                                                  \n",
            " block_9_add (Add)              (None, 14, 14, 64)   0           ['block_8_add[0][0]',            \n",
            "                                                                  'block_9_project_BN[0][0]']     \n",
            "                                                                                                  \n",
            " block_10_expand (Conv2D)       (None, 14, 14, 384)  24576       ['block_9_add[0][0]']            \n",
            "                                                                                                  \n",
            " block_10_expand_BN (BatchNorma  (None, 14, 14, 384)  1536       ['block_10_expand[0][0]']        \n",
            " lization)                                                                                        \n",
            "                                                                                                  \n",
            " block_10_expand_relu (ReLU)    (None, 14, 14, 384)  0           ['block_10_expand_BN[0][0]']     \n",
            "                                                                                                  \n",
            " block_10_depthwise (DepthwiseC  (None, 14, 14, 384)  3456       ['block_10_expand_relu[0][0]']   \n",
            " onv2D)                                                                                           \n",
            "                                                                                                  \n",
            " block_10_depthwise_BN (BatchNo  (None, 14, 14, 384)  1536       ['block_10_depthwise[0][0]']     \n",
            " rmalization)                                                                                     \n",
            "                                                                                                  \n",
            " block_10_depthwise_relu (ReLU)  (None, 14, 14, 384)  0          ['block_10_depthwise_BN[0][0]']  \n",
            "                                                                                                  \n",
            " block_10_project (Conv2D)      (None, 14, 14, 96)   36864       ['block_10_depthwise_relu[0][0]']\n",
            "                                                                                                  \n",
            " block_10_project_BN (BatchNorm  (None, 14, 14, 96)  384         ['block_10_project[0][0]']       \n",
            " alization)                                                                                       \n",
            "                                                                                                  \n",
            " block_11_expand (Conv2D)       (None, 14, 14, 576)  55296       ['block_10_project_BN[0][0]']    \n",
            "                                                                                                  \n",
            " block_11_expand_BN (BatchNorma  (None, 14, 14, 576)  2304       ['block_11_expand[0][0]']        \n",
            " lization)                                                                                        \n",
            "                                                                                                  \n",
            " block_11_expand_relu (ReLU)    (None, 14, 14, 576)  0           ['block_11_expand_BN[0][0]']     \n",
            "                                                                                                  \n",
            " block_11_depthwise (DepthwiseC  (None, 14, 14, 576)  5184       ['block_11_expand_relu[0][0]']   \n",
            " onv2D)                                                                                           \n",
            "                                                                                                  \n",
            " block_11_depthwise_BN (BatchNo  (None, 14, 14, 576)  2304       ['block_11_depthwise[0][0]']     \n",
            " rmalization)                                                                                     \n",
            "                                                                                                  \n",
            " block_11_depthwise_relu (ReLU)  (None, 14, 14, 576)  0          ['block_11_depthwise_BN[0][0]']  \n",
            "                                                                                                  \n",
            " block_11_project (Conv2D)      (None, 14, 14, 96)   55296       ['block_11_depthwise_relu[0][0]']\n",
            "                                                                                                  \n",
            " block_11_project_BN (BatchNorm  (None, 14, 14, 96)  384         ['block_11_project[0][0]']       \n",
            " alization)                                                                                       \n",
            "                                                                                                  \n",
            " block_11_add (Add)             (None, 14, 14, 96)   0           ['block_10_project_BN[0][0]',    \n",
            "                                                                  'block_11_project_BN[0][0]']    \n",
            "                                                                                                  \n",
            " block_12_expand (Conv2D)       (None, 14, 14, 576)  55296       ['block_11_add[0][0]']           \n",
            "                                                                                                  \n",
            " block_12_expand_BN (BatchNorma  (None, 14, 14, 576)  2304       ['block_12_expand[0][0]']        \n",
            " lization)                                                                                        \n",
            "                                                                                                  \n",
            " block_12_expand_relu (ReLU)    (None, 14, 14, 576)  0           ['block_12_expand_BN[0][0]']     \n",
            "                                                                                                  \n",
            " block_12_depthwise (DepthwiseC  (None, 14, 14, 576)  5184       ['block_12_expand_relu[0][0]']   \n",
            " onv2D)                                                                                           \n",
            "                                                                                                  \n",
            " block_12_depthwise_BN (BatchNo  (None, 14, 14, 576)  2304       ['block_12_depthwise[0][0]']     \n",
            " rmalization)                                                                                     \n",
            "                                                                                                  \n",
            " block_12_depthwise_relu (ReLU)  (None, 14, 14, 576)  0          ['block_12_depthwise_BN[0][0]']  \n",
            "                                                                                                  \n",
            " block_12_project (Conv2D)      (None, 14, 14, 96)   55296       ['block_12_depthwise_relu[0][0]']\n",
            "                                                                                                  \n",
            " block_12_project_BN (BatchNorm  (None, 14, 14, 96)  384         ['block_12_project[0][0]']       \n",
            " alization)                                                                                       \n",
            "                                                                                                  \n",
            " block_12_add (Add)             (None, 14, 14, 96)   0           ['block_11_add[0][0]',           \n",
            "                                                                  'block_12_project_BN[0][0]']    \n",
            "                                                                                                  \n",
            " block_13_expand (Conv2D)       (None, 14, 14, 576)  55296       ['block_12_add[0][0]']           \n",
            "                                                                                                  \n",
            " block_13_expand_BN (BatchNorma  (None, 14, 14, 576)  2304       ['block_13_expand[0][0]']        \n",
            " lization)                                                                                        \n",
            "                                                                                                  \n",
            " block_13_expand_relu (ReLU)    (None, 14, 14, 576)  0           ['block_13_expand_BN[0][0]']     \n",
            "                                                                                                  \n",
            " block_13_pad (ZeroPadding2D)   (None, 15, 15, 576)  0           ['block_13_expand_relu[0][0]']   \n",
            "                                                                                                  \n",
            " block_13_depthwise (DepthwiseC  (None, 7, 7, 576)   5184        ['block_13_pad[0][0]']           \n",
            " onv2D)                                                                                           \n",
            "                                                                                                  \n",
            " block_13_depthwise_BN (BatchNo  (None, 7, 7, 576)   2304        ['block_13_depthwise[0][0]']     \n",
            " rmalization)                                                                                     \n",
            "                                                                                                  \n",
            " block_13_depthwise_relu (ReLU)  (None, 7, 7, 576)   0           ['block_13_depthwise_BN[0][0]']  \n",
            "                                                                                                  \n",
            " block_13_project (Conv2D)      (None, 7, 7, 160)    92160       ['block_13_depthwise_relu[0][0]']\n",
            "                                                                                                  \n",
            " block_13_project_BN (BatchNorm  (None, 7, 7, 160)   640         ['block_13_project[0][0]']       \n",
            " alization)                                                                                       \n",
            "                                                                                                  \n",
            " block_14_expand (Conv2D)       (None, 7, 7, 960)    153600      ['block_13_project_BN[0][0]']    \n",
            "                                                                                                  \n",
            " block_14_expand_BN (BatchNorma  (None, 7, 7, 960)   3840        ['block_14_expand[0][0]']        \n",
            " lization)                                                                                        \n",
            "                                                                                                  \n",
            " block_14_expand_relu (ReLU)    (None, 7, 7, 960)    0           ['block_14_expand_BN[0][0]']     \n",
            "                                                                                                  \n",
            " block_14_depthwise (DepthwiseC  (None, 7, 7, 960)   8640        ['block_14_expand_relu[0][0]']   \n",
            " onv2D)                                                                                           \n",
            "                                                                                                  \n",
            " block_14_depthwise_BN (BatchNo  (None, 7, 7, 960)   3840        ['block_14_depthwise[0][0]']     \n",
            " rmalization)                                                                                     \n",
            "                                                                                                  \n",
            " block_14_depthwise_relu (ReLU)  (None, 7, 7, 960)   0           ['block_14_depthwise_BN[0][0]']  \n",
            "                                                                                                  \n",
            " block_14_project (Conv2D)      (None, 7, 7, 160)    153600      ['block_14_depthwise_relu[0][0]']\n",
            "                                                                                                  \n",
            " block_14_project_BN (BatchNorm  (None, 7, 7, 160)   640         ['block_14_project[0][0]']       \n",
            " alization)                                                                                       \n",
            "                                                                                                  \n",
            " block_14_add (Add)             (None, 7, 7, 160)    0           ['block_13_project_BN[0][0]',    \n",
            "                                                                  'block_14_project_BN[0][0]']    \n",
            "                                                                                                  \n",
            " block_15_expand (Conv2D)       (None, 7, 7, 960)    153600      ['block_14_add[0][0]']           \n",
            "                                                                                                  \n",
            " block_15_expand_BN (BatchNorma  (None, 7, 7, 960)   3840        ['block_15_expand[0][0]']        \n",
            " lization)                                                                                        \n",
            "                                                                                                  \n",
            " block_15_expand_relu (ReLU)    (None, 7, 7, 960)    0           ['block_15_expand_BN[0][0]']     \n",
            "                                                                                                  \n",
            " block_15_depthwise (DepthwiseC  (None, 7, 7, 960)   8640        ['block_15_expand_relu[0][0]']   \n",
            " onv2D)                                                                                           \n",
            "                                                                                                  \n",
            " block_15_depthwise_BN (BatchNo  (None, 7, 7, 960)   3840        ['block_15_depthwise[0][0]']     \n",
            " rmalization)                                                                                     \n",
            "                                                                                                  \n",
            " block_15_depthwise_relu (ReLU)  (None, 7, 7, 960)   0           ['block_15_depthwise_BN[0][0]']  \n",
            "                                                                                                  \n",
            " block_15_project (Conv2D)      (None, 7, 7, 160)    153600      ['block_15_depthwise_relu[0][0]']\n",
            "                                                                                                  \n",
            " block_15_project_BN (BatchNorm  (None, 7, 7, 160)   640         ['block_15_project[0][0]']       \n",
            " alization)                                                                                       \n",
            "                                                                                                  \n",
            " block_15_add (Add)             (None, 7, 7, 160)    0           ['block_14_add[0][0]',           \n",
            "                                                                  'block_15_project_BN[0][0]']    \n",
            "                                                                                                  \n",
            " block_16_expand (Conv2D)       (None, 7, 7, 960)    153600      ['block_15_add[0][0]']           \n",
            "                                                                                                  \n",
            " block_16_expand_BN (BatchNorma  (None, 7, 7, 960)   3840        ['block_16_expand[0][0]']        \n",
            " lization)                                                                                        \n",
            "                                                                                                  \n",
            " block_16_expand_relu (ReLU)    (None, 7, 7, 960)    0           ['block_16_expand_BN[0][0]']     \n",
            "                                                                                                  \n",
            " block_16_depthwise (DepthwiseC  (None, 7, 7, 960)   8640        ['block_16_expand_relu[0][0]']   \n",
            " onv2D)                                                                                           \n",
            "                                                                                                  \n",
            " block_16_depthwise_BN (BatchNo  (None, 7, 7, 960)   3840        ['block_16_depthwise[0][0]']     \n",
            " rmalization)                                                                                     \n",
            "                                                                                                  \n",
            " block_16_depthwise_relu (ReLU)  (None, 7, 7, 960)   0           ['block_16_depthwise_BN[0][0]']  \n",
            "                                                                                                  \n",
            " block_16_project (Conv2D)      (None, 7, 7, 320)    307200      ['block_16_depthwise_relu[0][0]']\n",
            "                                                                                                  \n",
            " block_16_project_BN (BatchNorm  (None, 7, 7, 320)   1280        ['block_16_project[0][0]']       \n",
            " alization)                                                                                       \n",
            "                                                                                                  \n",
            " Conv_1 (Conv2D)                (None, 7, 7, 1280)   409600      ['block_16_project_BN[0][0]']    \n",
            "                                                                                                  \n",
            " Conv_1_bn (BatchNormalization)  (None, 7, 7, 1280)  5120        ['Conv_1[0][0]']                 \n",
            "                                                                                                  \n",
            " out_relu (ReLU)                (None, 7, 7, 1280)   0           ['Conv_1_bn[0][0]']              \n",
            "                                                                                                  \n",
            " conv2d_4 (Conv2D)              (None, 6, 6, 256)    1310976     ['out_relu[0][0]']               \n",
            "                                                                                                  \n",
            " conv2d_5 (Conv2D)              (None, 5, 5, 256)    262400      ['conv2d_4[0][0]']               \n",
            "                                                                                                  \n",
            " Input-Gender (InputLayer)      [(None, 1)]          0           []                               \n",
            "                                                                                                  \n",
            " flatten_2 (Flatten)            (None, 6400)         0           ['conv2d_5[0][0]']               \n",
            "                                                                                                  \n",
            " feature-layer-1 (Dense)        (None, 64)           128         ['Input-Gender[0][0]']           \n",
            "                                                                                                  \n",
            " concatenate_2 (Concatenate)    (None, 6464)         0           ['flatten_2[0][0]',              \n",
            "                                                                  'feature-layer-1[0][0]']        \n",
            "                                                                                                  \n",
            " dense_4 (Dense)                (None, 256)          1655040     ['concatenate_2[0][0]']          \n",
            "                                                                                                  \n",
            " dense_5 (Dense)                (None, 256)          65792       ['dense_4[0][0]']                \n",
            "                                                                                                  \n",
            " Output-Layer (Dense)           (None, 1)            257         ['dense_5[0][0]']                \n",
            "                                                                                                  \n",
            "==================================================================================================\n",
            "Total params: 5,552,577\n",
            "Trainable params: 3,294,593\n",
            "Non-trainable params: 2,257,984\n",
            "__________________________________________________________________________________________________\n"
          ]
        }
      ],
      "source": [
        "model.summary()"
      ]
    },
    {
      "cell_type": "code",
      "execution_count": null,
      "metadata": {
        "id": "L7ivgImtMO-P"
      },
      "outputs": [],
      "source": []
    }
  ],
  "metadata": {
    "colab": {
      "authorship_tag": "ABX9TyMNNI016u8OIiDnHqNxJpkg",
      "collapsed_sections": [],
      "include_colab_link": true,
      "mount_file_id": "1xGFmyNtMlHK1WYWYYOo-1K21VyBonnQ8",
      "name": "bone-age-regression.ipynb",
      "provenance": [],
      "toc_visible": true
    },
    "gpuClass": "standard",
    "kernelspec": {
      "display_name": "Python 3",
      "name": "python3"
    },
    "language_info": {
      "name": "python"
    }
  },
  "nbformat": 4,
  "nbformat_minor": 0
}
